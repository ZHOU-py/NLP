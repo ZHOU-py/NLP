{
  "nbformat": 4,
  "nbformat_minor": 0,
  "metadata": {
    "colab": {
      "name": "Python_Text_Generation_statistic.ipynb",
      "provenance": [],
      "authorship_tag": "ABX9TyNvkFDtJpqu3xNmyB2/nDT3",
      "include_colab_link": true
    },
    "kernelspec": {
      "name": "python3",
      "display_name": "Python 3"
    }
  },
  "cells": [
    {
      "cell_type": "markdown",
      "metadata": {
        "id": "view-in-github",
        "colab_type": "text"
      },
      "source": [
        "<a href=\"https://colab.research.google.com/github/ZHOU-py/NLP/blob/master/Python_Text_Generation_statistic.ipynb\" target=\"_parent\"><img src=\"https://colab.research.google.com/assets/colab-badge.svg\" alt=\"Open In Colab\"/></a>"
      ]
    },
    {
      "cell_type": "markdown",
      "metadata": {
        "id": "oL-CwmTklPBI"
      },
      "source": [
        "#### Python 实现文章自动生成\n",
        "基于概率统计的文本分析。计算一个单词出现在另一个单词后的概率。依据马尔可夫模型。  \n",
        "BeautifulSoup抓取网页上的文本内容"
      ]
    },
    {
      "cell_type": "code",
      "metadata": {
        "id": "m2IHrLEzYJNY"
      },
      "source": [
        "from urllib.request import urlopen\n",
        "from random import randint\n",
        "from bs4 import BeautifulSoup\n",
        "import re"
      ],
      "execution_count": 10,
      "outputs": []
    },
    {
      "cell_type": "code",
      "metadata": {
        "id": "mI5-hr6Ch1OO"
      },
      "source": [
        "def wordListSum(wordList):\n",
        "    sum = 0\n",
        "    for word, value in wordList.items():\n",
        "      sum = sum + value\n",
        "      \n",
        "    return sum\n",
        "\n",
        "def retrieveRandomWord(wordList):\n",
        "    randomIndex = randint(1, wordListSum(wordList))\n",
        "    for word, value in wordList.items():\n",
        "      randomIndex -= value\n",
        "      if randomIndex <= 0:\n",
        "        return word\n",
        "\n",
        "def buildWordDict(text):\n",
        "    text = re.sub('(\\n|\\r|\\t)+', \" \", text)\n",
        "    text = re.sub('\\\"', \"\", text)\n",
        "\n",
        "    punctuation = [',', '.', ';', ':']\n",
        "    for symbol in punctuation:\n",
        "        text = text.replace(symbol, \" \" + symbol + \" \")\n",
        "\n",
        "    words = text.split(' ')\n",
        "\n",
        "    words = [word for word in words if word != \"\"]\n",
        "    wordDict = {}\n",
        "    for i in range(1, len(words)):\n",
        "        if words[i-1] not in wordDict:\n",
        "            wordDict[words[i-1]] = {}\n",
        "        if words[i] not in wordDict[words[i-1]]:\n",
        "            wordDict[words[i-1]][words[i]] = 0\n",
        "        wordDict[words[i-1]][words[i]] = wordDict[words[i-1]][words[i]] + 1\n",
        "\n",
        "    return wordDict\n",
        "\n",
        "def randomFirstWord(wordDict):\n",
        "    randomIndex = randint(0, len(wordDict))\n",
        "    return list(wordDict.keys())[randomIndex]  "
      ],
      "execution_count": 22,
      "outputs": []
    },
    {
      "cell_type": "code",
      "metadata": {
        "id": "BdyidrLJiXbM",
        "outputId": "3d324290-eebc-48f9-8194-5f666e11d66f",
        "colab": {
          "base_uri": "https://localhost:8080/",
          "height": 54
        }
      },
      "source": [
        "html = urlopen(\"https://www.guancha.cn/america/2017_01_21_390488_s.shtml\")\n",
        "bsObj = BeautifulSoup(html, \"lxml\")\n",
        "ps = bsObj.find(\"div\", {\"id\": \"cmtdiv3523349\"}).find_next_siblings(\"p\");\n",
        "content = \"\"\n",
        "for p in ps:\n",
        "    content = content + p.get_text()\n",
        "text = bytes(content, \"UTF-8\")\n",
        "text = text.decode(\"ascii\", \"ignore\")\n",
        "wordDict = buildWordDict(text)\n",
        "\n",
        "length = 100\n",
        "chain = \"\"\n",
        "currentWord = randomFirstWord(wordDict)\n",
        "for i in range(0, length):\n",
        "    chain += currentWord + \" \"\n",
        "    currentWord = retrieveRandomWord(wordDict[currentWord])\n",
        "\n",
        "print(chain)"
      ],
      "execution_count": 36,
      "outputs": [
        {
          "output_type": "stream",
          "text": [
            "never doing anything about it back to become part of the nations to the face challenges , lift our country will always pursue solidarity . And whether we will bring back to work , hear these steps to let you . No challenge can match the bedrock of this nation exists : mothers and trillions of our loyalty to ocean to remember that is our country , but always be protected itself , and people . And your courage and giving it is listening to remember that old wisdom our country . We , but we will eradicate from mountain \n"
          ],
          "name": "stdout"
        }
      ]
    },
    {
      "cell_type": "code",
      "metadata": {
        "id": "q3-ZDg-FuMLt"
      },
      "source": [
        ""
      ],
      "execution_count": 24,
      "outputs": []
    }
  ]
}